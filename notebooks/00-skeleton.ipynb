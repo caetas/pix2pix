{
 "cells": [
  {
   "cell_type": "markdown",
   "metadata": {},
   "source": [
    "<div style='font-size:200%;font-weight:bold'>Title</div><br>\n",
    "\n",
    "This skeleton notebook includes reference structure and stanzas, and tips to make notebook as\n",
    "ergonomic (for both (co-)authors and readers) and camera-ready as possible.\n",
    "\n",
    "**NOTES:**\n",
    "- Best viewed using Jupyter Lab.\n",
    "- The title is a styled sentence rather than `h1`, to prevent it being showed and numbered in TOC.\n",
    "\n",
    "<font style='color:firebrick'>**NOTE:** this skeleton notebook is meant for reading. To run it,\n",
    "please install additional dependencies imported in the second next cell which starts with line\n",
    "`# Dependencies required`.</font>"
   ]
  },
  {
   "cell_type": "code",
   "execution_count": null,
   "metadata": {},
   "outputs": [],
   "source": [
    "%config InlineBackend.figure_format = 'retina'\n",
    "%load_ext autoreload\n",
    "%autoreload 2"
   ]
  },
  {
   "cell_type": "code",
   "execution_count": null,
   "metadata": {},
   "outputs": [],
   "source": [
    "from imports import package_installed\n",
    "from utils.my_nb_color import pprint, print"
   ]
  },
  {
   "cell_type": "code",
   "execution_count": null,
   "metadata": {},
   "outputs": [],
   "source": [
    "package_installed(\"numpy\")"
   ]
  },
  {
   "cell_type": "markdown",
   "metadata": {},
   "source": [
    "## Colored outputs"
   ]
  },
  {
   "cell_type": "code",
   "execution_count": null,
   "metadata": {},
   "outputs": [],
   "source": [
    "d = {\"A\" * 200, \"B\" * 200}\n",
    "print(\"Colored:\", d)\n",
    "pprint(\"Colored and wrapped:\", d)"
   ]
  },
  {
   "cell_type": "markdown",
   "metadata": {},
   "source": [
    "# Summary\n",
    "\n",
    "When this notebook should be versioned without output, do a *Cell > All Outputs > Clear*.\n",
    "\n",
    "When there're output to be version (like what this skeleton notebook does), consider to remove the\n",
    "cell counts.\n",
    "\n",
    "**Advance git tips:** selectively choose which hunk (i.e., portion) of unstaged change to stage\n",
    "using `git add -i filename.ipynb`. For instance, you may edit this notebook on another machine with\n",
    "a different Python version or environment name, and these minutae changes need not be committed.\n",
    "Please refer to git documentation for more details. TLDR version: choose `5: patch`, then decide\n",
    "what to do with each hunk. Best combined with `nbdiff` for a more intuitive diff view."
   ]
  }
 ],
 "metadata": {
  "language_info": {
   "codemirror_mode": {
    "name": "ipython",
    "version": 3
   },
   "file_extension": ".py",
   "mimetype": "text/x-python",
   "name": "python",
   "nbconvert_exporter": "python",
   "pygments_lexer": "ipython3",
   "version": "3.9.5"
  },
  "toc-autonumbering": true,
  "toc-showcode": false,
  "toc-showmarkdowntxt": false,
  "toc-showtags": false
 },
 "nbformat": 4,
 "nbformat_minor": 4
}
